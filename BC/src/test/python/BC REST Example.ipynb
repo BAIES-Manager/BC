{
 "cells": [
  {
   "cell_type": "markdown",
   "metadata": {},
   "source": [
    "# Search"
   ]
  },
  {
   "cell_type": "code",
   "execution_count": 1,
   "metadata": {},
   "outputs": [],
   "source": [
    "def createJsonRequest(mode, type, jsonData):\n",
    "    json = \"{\\\"mode\\\":\\\"\" +  mode + \"\\\", \\\"type\\\":\\\"\" + type + \"\\\",\\\"data\\\":\" + jsonData + \"}\"\n",
    "    return json\n"
   ]
  },
  {
   "cell_type": "code",
   "execution_count": 2,
   "metadata": {},
   "outputs": [
    {
     "name": "stdout",
     "output_type": "stream",
     "text": [
      "Simple X Model: 09/09/2018 03:20:21.878 This model is used to test this platform. \r\n",
      "Hidden Markov Model: 09/09/2018 03:21:04.862 Hidden Markov Model (HMM) is a statistical Markov model in which the system being modeled is assumed to be a Markov process with unobserved (i.e. hidden) states. \r\n",
      "Chest Clinic Model: 09/09/2018 03:21:38.378 Lauritzen, S. L., & Spiegelhalter, D. J. (1988). Local computations with probabilities on graphical structures and their application to expert systems. Journal of the Royal Statistical Society. Series B (Methodological), 157-224. \r\n",
      "Cancer Model: 09/09/2018 03:22:24.675  \r\n",
      "1. Geospatial Dangerousness Model: 09/09/2018 03:22:57.687  \r\n",
      "2. Regional Virus Spread Model: 09/09/2018 03:23:16.951  \r\n",
      "3. Virus Mutation Model: 09/09/2018 03:23:35.294  \r\n",
      "4. Infectious Disease Patient Model: 09/09/2018 03:23:52.664  \r\n",
      "5. Integrated Model: 09/09/2018 03:24:11.116  \r\n",
      "EBOLA: 09/25/2018 11:13:18.680  \r\n",
      "\n"
     ]
    }
   ],
   "source": [
    "import requests\n",
    "# {\"mode\":\"search\",\"type\":\"html\",\"data\":{\"srch-term\":\"\"}}\n",
    "body = createJsonRequest(\"search\", \"text\", \"{\\\"srch-term\\\":\\\"\\\"}\")\n",
    "\n",
    "r = requests.post('http://169.60.94.50:8080/BC/webapi/RequestBN/run', data = body)\n",
    "\n",
    "print(r.text)\n"
   ]
  },
  {
   "cell_type": "markdown",
   "metadata": {},
   "source": [
    "# Get BN"
   ]
  },
  {
   "cell_type": "code",
   "execution_count": 3,
   "metadata": {},
   "outputs": [
    {
     "name": "stdout",
     "output_type": "stream",
     "text": [
      "// Simple X Model\n",
      "// This model is used to test this platform.\n",
      "\n",
      "defineNode(A_1, DescriptionC0);\n",
      "{defineState(Discrete, a1, a2); \n",
      "p( A_1 ) = { a1: 0.2; a2: 0.8;  }  \n",
      "} \n",
      "\t\t\t \n",
      "defineNode(B_1, DescriptionC2);\n",
      "{defineState(Discrete, b1, b2); \n",
      "p( B_1 ) = { b1: 0.6; b2: 0.4;  }  \n",
      "} \n",
      "\t\t\t\n",
      "defineNode(X_1, DescriptionC0);\n",
      "{ defineState(Discrete, x1, x2); \n",
      "p( X_1 | A_1, B_1 ) = if( A_1 == a1 && B_1 == b1 ) { x1: 0.3; x2: 0.7; } \n",
      "else if ( A_1 == a1 && B_1 == b2 ) { x1: 0.1; x2: 0.9; }  \n",
      "else if ( A_1 == a2 && B_1 == b1 ) { x1: 0.5; x2: 0.5; }  \n",
      "else if ( A_1 == a2 && B_1 == b2 ) { x1: 0.8; x2: 0.2; }   \n",
      "} \n",
      "\t\t\t\n",
      "defineNode(Y_1, DescriptionC0);\n",
      "{ defineState(Discrete, y1, y2); \n",
      "p( Y_1 | X_1 ) = if( X_1 == x1) { y1: 0.14; y2: 0.86; } \n",
      "else if ( X_1 == x2 ) { y1: 0.28; y2: 0.72; }  \n",
      "}\n",
      "\n",
      "defineNode(Z_1, DescriptionC0); \t\n",
      "{ defineState(Discrete, z1, z2, z3, z4, z5, z6, z7, z8, z9, z10); \n",
      "p( Z_1 | X_1 ) = if( X_1 == x1) { z1: 0.1; z2: 0.1; z3: 0.1; z4: 0.1; z5: 0.1; z6: 0.1; z7: 0.1; z8: 0.1; z9: 0.1;  z10: 0.1; } \n",
      "else if ( X_1 == x2 ) { z1: 0.58; z2: 0.22; z3: 0.0; z4: 0.0; z5: 0.0; z6: 0.0; z7: 0.0; z8: 0.0; z9: 0.0;  z10: 0.2; }  \n",
      "}\n"
     ]
    }
   ],
   "source": [
    "import requests \n",
    "body = createJsonRequest(\"get\", \"text\", \"{\\\"name\\\":\\\"Simple X Model\\\"}\")\n",
    "\n",
    "r = requests.post('http://169.60.94.50:8080/BC/webapi/RequestBN/run', data = body)\n",
    "\n",
    "print(r.text)"
   ]
  },
  {
   "cell_type": "markdown",
   "metadata": {},
   "source": [
    "# Update BN with Evidence returinng Text"
   ]
  },
  {
   "cell_type": "code",
   "execution_count": 4,
   "metadata": {},
   "outputs": [
    {
     "name": "stdout",
     "output_type": "stream",
     "text": [
      "A_1:\r\n",
      "         EVIDENCE.[ a1 ]\n",
      "\r\n",
      "B_1:\r\n",
      "         BEL.[ b1 ][ b2 ][ 0.4 ]\n",
      "         BEL.[ b1 ][ 0.5999999 ]\n",
      "\r\n",
      "X_1:\r\n",
      "         BEL.[ x1 ][ x2 ][ 0.78 ]\n",
      "         BEL.[ x1 ][ 0.21999994 ]\n",
      "\r\n",
      "Y_1:\r\n",
      "         BEL.[ y1 ][ y2 ][ 0.75079995 ]\n",
      "         BEL.[ y1 ][ 0.24919999 ]\n",
      "\r\n",
      "Z_1:\r\n",
      "         BEL.[ z1 ][ z2 ][ z3 ][ z4 ][ z5 ][ z6 ][ z7 ][ z8 ][ z9 ][ z10 ][ 0.17799999 ]\n",
      "         BEL.[ z1 ][ z2 ][ z3 ][ z4 ][ z5 ][ z6 ][ z7 ][ z8 ][ z9 ][ 0.021999996 ]\n",
      "         BEL.[ z1 ][ z2 ][ z3 ][ z4 ][ z5 ][ z6 ][ z7 ][ z8 ][ 0.021999996 ]\n",
      "         BEL.[ z1 ][ z2 ][ z3 ][ z4 ][ z5 ][ z6 ][ z7 ][ 0.021999996 ]\n",
      "         BEL.[ z1 ][ z2 ][ z3 ][ z4 ][ z5 ][ z6 ][ 0.021999996 ]\n",
      "         BEL.[ z1 ][ z2 ][ z3 ][ z4 ][ z5 ][ 0.021999996 ]\n",
      "         BEL.[ z1 ][ z2 ][ z3 ][ z4 ][ 0.021999996 ]\n",
      "         BEL.[ z1 ][ z2 ][ z3 ][ 0.021999996 ]\n",
      "         BEL.[ z1 ][ z2 ][ 0.19359998 ]\n",
      "         BEL.[ z1 ][ 0.47439995 ]\n",
      "\r\n",
      "\n"
     ]
    }
   ],
   "source": [
    "import requests \n",
    "body = createJsonRequest(\"update\", \"text\", \"{\\\"name\\\":\\\"Simple X Model\\\", \\\"EV\\\":\\\"A_1 =a1\\\"}\")\n",
    "\n",
    "r = requests.post('http://169.60.94.50:8080/BC/webapi/RequestBN/run', data = body)\n",
    "\n",
    "print(r.text)"
   ]
  },
  {
   "cell_type": "markdown",
   "metadata": {},
   "source": [
    "# Update BN with Evidence returinng Json"
   ]
  },
  {
   "cell_type": "code",
   "execution_count": 5,
   "metadata": {},
   "outputs": [
    {
     "name": "stdout",
     "output_type": "stream",
     "text": [
      "[\r\n",
      "{\"Name\":\"A_1\", \"type\":\"ev_dis\", \"Param\":{\"Evidence\":\"a1\"}},\r\n",
      "{\"Name\":\"B_1\", \"type\":\"bel_dis\", \"Param\":{\"b1\":\"0.5999999\",\"b2\":\"0.4\"}},\r\n",
      "{\"Name\":\"X_1\", \"type\":\"bel_dis\", \"Param\":{\"x1\":\"0.21999994\",\"x2\":\"0.78\"}},\r\n",
      "{\"Name\":\"Y_1\", \"type\":\"bel_dis\", \"Param\":{\"y1\":\"0.24919999\",\"y2\":\"0.75079995\"}},\r\n",
      "{\"Name\":\"Z_1\", \"type\":\"bel_dis\", \"Param\":{\"z1\":\"0.47439995\",\"z2\":\"0.19359998\",\"z3\":\"0.021999996\",\"z4\":\"0.021999996\",\"z5\":\"0.021999996\",\"z6\":\"0.021999996\",\"z7\":\"0.021999996\",\"z8\":\"0.021999996\",\"z9\":\"0.021999996\",\"z10\":\"0.17799999\"}}\r\n",
      "]\n"
     ]
    }
   ],
   "source": [
    "import requests \n",
    "import json\n",
    "\n",
    "body = createJsonRequest(\"update\", \"json\", \"{\\\"name\\\":\\\"Simple X Model\\\", \\\"EV\\\":\\\"A_1 =a1\\\"}\")\n",
    "\n",
    "r = requests.post('http://169.60.94.50:8080/BC/webapi/RequestBN/run', data = body)\n",
    "print(r.text)\n",
    "# d = json.loads(r.text)\n",
    "# print(d[0])"
   ]
  },
  {
   "cell_type": "markdown",
   "metadata": {},
   "source": [
    "# Update BN returinng Json"
   ]
  },
  {
   "cell_type": "code",
   "execution_count": 6,
   "metadata": {},
   "outputs": [
    {
     "name": "stdout",
     "output_type": "stream",
     "text": [
      "Name A_1\n",
      "type ev_dis\n",
      "Param {'Evidence': 'a1'}\n",
      "Name B_1\n",
      "type bel_dis\n",
      "Param {'b1': '0.5999999', 'b2': '0.4'}\n",
      "Name X_1\n",
      "type bel_dis\n",
      "Param {'x1': '0.21999994', 'x2': '0.78'}\n",
      "Name Y_1\n",
      "type bel_dis\n",
      "Param {'y1': '0.24919999', 'y2': '0.75079995'}\n",
      "Name Z_1\n",
      "type bel_dis\n",
      "Param {'z1': '0.47439995', 'z2': '0.19359998', 'z3': '0.021999996', 'z4': '0.021999996', 'z5': '0.021999996', 'z6': '0.021999996', 'z7': '0.021999996', 'z8': '0.021999996', 'z9': '0.021999996', 'z10': '0.17799999'}\n"
     ]
    }
   ],
   "source": [
    "import requests \n",
    "import json\n",
    "\n",
    "body = createJsonRequest(\"update\", \"json\", \"{\\\"name\\\":\\\"Simple X Model\\\", \\\"EV\\\":\\\"A_1 =a1\\\"}\")\n",
    "\n",
    "r = requests.post('http://169.60.94.50:8080/BC/webapi/RequestBN/run', data = body)\n",
    "\n",
    "jdata = json.loads(r.text)\n",
    "\n",
    "for d in jdata:\n",
    "    for key, value in d.items():\n",
    "        print (key, value)\n",
    "         "
   ]
  },
  {
   "cell_type": "code",
   "execution_count": null,
   "metadata": {},
   "outputs": [],
   "source": []
  }
 ],
 "metadata": {
  "kernelspec": {
   "display_name": "Python 3",
   "language": "python",
   "name": "python3"
  },
  "language_info": {
   "codemirror_mode": {
    "name": "ipython",
    "version": 3
   },
   "file_extension": ".py",
   "mimetype": "text/x-python",
   "name": "python",
   "nbconvert_exporter": "python",
   "pygments_lexer": "ipython3",
   "version": "3.6.5"
  }
 },
 "nbformat": 4,
 "nbformat_minor": 2
}
