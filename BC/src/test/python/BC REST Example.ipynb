{
 "cells": [
  {
   "cell_type": "markdown",
   "metadata": {},
   "source": [
    "# Search"
   ]
  },
  {
   "cell_type": "code",
   "execution_count": 4,
   "metadata": {},
   "outputs": [],
   "source": [
    "def createJsonRequest(mode, type, jsonData):\n",
    "    json = \"{\\\"mode\\\":\\\"\" +  mode + \"\\\", \\\"type\\\":\\\"\" + type + \"\\\",\\\"data\\\":\" + jsonData + \"}\"\n",
    "    return json\n"
   ]
  },
  {
   "cell_type": "code",
   "execution_count": 5,
   "metadata": {},
   "outputs": [
    {
     "name": "stdout",
     "output_type": "stream",
     "text": [
      "Simple X Model: 09/09/2018 03:20:21.878 This model is used to test this platform. \r\n",
      "Hidden Markov Model: 09/09/2018 03:21:04.862 Hidden Markov Model (HMM) is a statistical Markov model in which the system being modeled is assumed to be a Markov process with unobserved (i.e. hidden) states. \r\n",
      "Chest Clinic Model: 09/09/2018 03:21:38.378 Lauritzen, S. L., & Spiegelhalter, D. J. (1988). Local computations with probabilities on graphical structures and their application to expert systems. Journal of the Royal Statistical Society. Series B (Methodological), 157-224. \r\n",
      "Cancer Model: 09/09/2018 03:22:24.675  \r\n",
      "1. Geospatial Dangerousness Model: 09/09/2018 03:22:57.687  \r\n",
      "2. Regional Virus Spread Model: 09/09/2018 03:23:16.951  \r\n",
      "3. Virus Mutation Model: 09/09/2018 03:23:35.294  \r\n",
      "4. Infectious Disease Patient Model: 09/09/2018 03:23:52.664  \r\n",
      "5. Integrated Model: 09/09/2018 03:24:11.116  \r\n",
      "EBOLA: 09/25/2018 11:13:18.680  \r\n",
      "\n"
     ]
    }
   ],
   "source": [
    "import requests\n",
    "# {\"mode\":\"search\",\"type\":\"html\",\"data\":{\"srch-term\":\"\"}}\n",
    "body = createJsonRequest(\"search\", \"text\", \"{\\\"srch-term\\\":\\\"\\\"}\")\n",
    "\n",
    "r = requests.post('http://169.60.94.50:8080/BC/webapi/RequestBN/run', data = body)\n",
    "\n",
    "print(r.text)\n"
   ]
  },
  {
   "cell_type": "markdown",
   "metadata": {},
   "source": [
    "# Get BN"
   ]
  },
  {
   "cell_type": "code",
   "execution_count": 7,
   "metadata": {},
   "outputs": [
    {
     "name": "stdout",
     "output_type": "stream",
     "text": [
      "// Simple X Model\n",
      "// This model is used to test this platform.\n",
      "\n",
      "defineNode(A_1, DescriptionC0);\n",
      "{defineState(Discrete, a1, a2); \n",
      "p( A_1 ) = { a1: 0.2; a2: 0.8;  }  \n",
      "} \n",
      "\t\t\t \n",
      "defineNode(B_1, DescriptionC2);\n",
      "{defineState(Discrete, b1, b2); \n",
      "p( B_1 ) = { b1: 0.6; b2: 0.4;  }  \n",
      "} \n",
      "\t\t\t\n",
      "defineNode(X_1, DescriptionC0);\n",
      "{ defineState(Discrete, x1, x2); \n",
      "p( X_1 | A_1, B_1 ) = if( A_1 == a1 && B_1 == b1 ) { x1: 0.3; x2: 0.7; } \n",
      "else if ( A_1 == a1 && B_1 == b2 ) { x1: 0.1; x2: 0.9; }  \n",
      "else if ( A_1 == a2 && B_1 == b1 ) { x1: 0.5; x2: 0.5; }  \n",
      "else if ( A_1 == a2 && B_1 == b2 ) { x1: 0.8; x2: 0.2; }   \n",
      "} \n",
      "\t\t\t\n",
      "defineNode(Y_1, DescriptionC0);\n",
      "{ defineState(Discrete, y1, y2); \n",
      "p( Y_1 | X_1 ) = if( X_1 == x1) { y1: 0.14; y2: 0.86; } \n",
      "else if ( X_1 == x2 ) { y1: 0.28; y2: 0.72; }  \n",
      "}\n",
      "\n",
      "defineNode(Z_1, DescriptionC0); \t\n",
      "{ defineState(Discrete, z1, z2, z3, z4, z5, z6, z7, z8, z9, z10); \n",
      "p( Z_1 | X_1 ) = if( X_1 == x1) { z1: 0.1; z2: 0.1; z3: 0.1; z4: 0.1; z5: 0.1; z6: 0.1; z7: 0.1; z8: 0.1; z9: 0.1;  z10: 0.1; } \n",
      "else if ( X_1 == x2 ) { z1: 0.58; z2: 0.22; z3: 0.0; z4: 0.0; z5: 0.0; z6: 0.0; z7: 0.0; z8: 0.0; z9: 0.0;  z10: 0.2; }  \n",
      "}\n"
     ]
    }
   ],
   "source": [
    "import requests \n",
    "body = createJsonRequest(\"get\", \"text\", \"{\\\"name\\\":\\\"Simple X Model\\\"}\")\n",
    "\n",
    "r = requests.post('http://169.60.94.50:8080/BC/webapi/RequestBN/run', data = body)\n",
    "\n",
    "print(r.text)"
   ]
  },
  {
   "cell_type": "markdown",
   "metadata": {},
   "source": [
    "# Update BN with Evidence returinng Text"
   ]
  },
  {
   "cell_type": "code",
   "execution_count": 9,
   "metadata": {},
   "outputs": [
    {
     "name": "stdout",
     "output_type": "stream",
     "text": [
      "A_1:\r\n",
      "         EVIDENCE.[ a1 ]\n",
      "\r\n",
      "B_1:\r\n",
      "         BEL.[ b1 ][ b2 ][ 0.4 ]\n",
      "         BEL.[ b1 ][ 0.5999999 ]\n",
      "\r\n",
      "X_1:\r\n",
      "         BEL.[ x1 ][ x2 ][ 0.78 ]\n",
      "         BEL.[ x1 ][ 0.21999994 ]\n",
      "\r\n",
      "Y_1:\r\n",
      "         BEL.[ y1 ][ y2 ][ 0.75079995 ]\n",
      "         BEL.[ y1 ][ 0.24919999 ]\n",
      "\r\n",
      "Z_1:\r\n",
      "         BEL.[ z1 ][ z2 ][ z3 ][ z4 ][ z5 ][ z6 ][ z7 ][ z8 ][ z9 ][ z10 ][ 0.17799999 ]\n",
      "         BEL.[ z1 ][ z2 ][ z3 ][ z4 ][ z5 ][ z6 ][ z7 ][ z8 ][ z9 ][ 0.021999996 ]\n",
      "         BEL.[ z1 ][ z2 ][ z3 ][ z4 ][ z5 ][ z6 ][ z7 ][ z8 ][ 0.021999996 ]\n",
      "         BEL.[ z1 ][ z2 ][ z3 ][ z4 ][ z5 ][ z6 ][ z7 ][ 0.021999996 ]\n",
      "         BEL.[ z1 ][ z2 ][ z3 ][ z4 ][ z5 ][ z6 ][ 0.021999996 ]\n",
      "         BEL.[ z1 ][ z2 ][ z3 ][ z4 ][ z5 ][ 0.021999996 ]\n",
      "         BEL.[ z1 ][ z2 ][ z3 ][ z4 ][ 0.021999996 ]\n",
      "         BEL.[ z1 ][ z2 ][ z3 ][ 0.021999996 ]\n",
      "         BEL.[ z1 ][ z2 ][ 0.19359998 ]\n",
      "         BEL.[ z1 ][ 0.47439995 ]\n",
      "\r\n",
      "\n"
     ]
    }
   ],
   "source": [
    "import requests \n",
    "body = createJsonRequest(\"update\", \"text\", \"{\\\"name\\\":\\\"Simple X Model\\\", \\\"EV\\\":\\\"A_1 =a1\\\"}\")\n",
    "\n",
    "r = requests.post('http://169.60.94.50:8080/BC/webapi/RequestBN/run', data = body)\n",
    "\n",
    "print(r.text)"
   ]
  },
  {
   "cell_type": "markdown",
   "metadata": {},
   "source": [
    "# Update BN with Evidence returinng Json"
   ]
  },
  {
   "cell_type": "code",
   "execution_count": 10,
   "metadata": {},
   "outputs": [
    {
     "name": "stdout",
     "output_type": "stream",
     "text": [
      "[\r\n",
      "{\"Name\":\"A_1\", \"type\":\"ev_dis\", \"Param\":{\"Evidence\":\"a1\"}},\r\n",
      "{\"Name\":\"B_1\", \"type\":\"bel_dis\", \"Param\":{\"b1\":\"0.5999999\",\"b2\":\"0.4\"}},\r\n",
      "{\"Name\":\"X_1\", \"type\":\"bel_dis\", \"Param\":{\"x1\":\"0.21999994\",\"x2\":\"0.78\"}},\r\n",
      "{\"Name\":\"Y_1\", \"type\":\"bel_dis\", \"Param\":{\"y1\":\"0.24919999\",\"y2\":\"0.75079995\"}},\r\n",
      "{\"Name\":\"Z_1\", \"type\":\"bel_dis\", \"Param\":{\"z1\":\"0.47439995\",\"z2\":\"0.19359998\",\"z3\":\"0.021999996\",\"z4\":\"0.021999996\",\"z5\":\"0.021999996\",\"z6\":\"0.021999996\",\"z7\":\"0.021999996\",\"z8\":\"0.021999996\",\"z9\":\"0.021999996\",\"z10\":\"0.17799999\"}}\r\n",
      "]\n"
     ]
    }
   ],
   "source": [
    "import requests \n",
    "import json\n",
    "\n",
    "body = createJsonRequest(\"update\", \"json\", \"{\\\"name\\\":\\\"Simple X Model\\\", \\\"EV\\\":\\\"A_1 =a1\\\"}\")\n",
    "\n",
    "r = requests.post('http://169.60.94.50:8080/BC/webapi/RequestBN/run', data = body)\n",
    "print(r.text)\n",
    "# d = json.loads(r.text)\n",
    "# print(d[0])"
   ]
  },
  {
   "cell_type": "markdown",
   "metadata": {},
   "source": [
    "# Update BN returinng Json"
   ]
  },
  {
   "cell_type": "code",
   "execution_count": 11,
   "metadata": {},
   "outputs": [
    {
     "name": "stdout",
     "output_type": "stream",
     "text": [
      "Name A_1\n",
      "type ev_dis\n",
      "Param {'Evidence': 'a1'}\n",
      "Name B_1\n",
      "type bel_dis\n",
      "Param {'b1': '0.5999999', 'b2': '0.4'}\n",
      "Name X_1\n",
      "type bel_dis\n",
      "Param {'x1': '0.21999994', 'x2': '0.78'}\n",
      "Name Y_1\n",
      "type bel_dis\n",
      "Param {'y1': '0.24919999', 'y2': '0.75079995'}\n",
      "Name Z_1\n",
      "type bel_dis\n",
      "Param {'z1': '0.47439995', 'z2': '0.19359998', 'z3': '0.021999996', 'z4': '0.021999996', 'z5': '0.021999996', 'z6': '0.021999996', 'z7': '0.021999996', 'z8': '0.021999996', 'z9': '0.021999996', 'z10': '0.17799999'}\n"
     ]
    }
   ],
   "source": [
    "import requests \n",
    "import json\n",
    "\n",
    "body = createJsonRequest(\"update\", \"json\", \"{\\\"name\\\":\\\"Simple X Model\\\", \\\"EV\\\":\\\"A_1 =a1\\\"}\")\n",
    "\n",
    "r = requests.post('http://169.60.94.50:8080/BC/webapi/RequestBN/run', data = body)\n",
    "\n",
    "jdata = json.loads(r.text)\n",
    "\n",
    "for d in jdata:\n",
    "    for key, value in d.items():\n",
    "        print (key, value)\n",
    "         "
   ]
  },
  {
   "cell_type": "code",
   "execution_count": 24,
   "metadata": {},
   "outputs": [
    {
     "name": "stdout",
     "output_type": "stream",
     "text": [
      "{\"mode\":\"update\",\"type\":\"html\",\"data\":digraph {\r\n",
      "node [rx=5 ry=5 labelStyle=\"font: 300 14px 'Helvetica Neue', Helvetica\"]\r\n",
      "edge [labelStyle=\"font: 300 14px 'Helvetica Neue', Helvetica\"] \r\n",
      "\r\n",
      "A_1\r\n",
      "[labelType=\"html\"\r\n",
      "\t\tlabel=\"\r\n",
      "\t\t<div style='width:200px;height:20px; solid #000; border-bottom: 1px solid gray; text-align:center; overflow: hidden; font-weight: bold;'>\r\n",
      "<font color = 'black'>A_1</div>\r\n",
      " \t\t<div style=' solid #000; width:200px; margin: 0px;  '>\r\n",
      "\t\t\t\t<div style=' solid #000; width:90px;  margin: 4px;  overflow: hidden; align=right; float:left; '>\r\n",
      "a1</div> \r\n",
      "\t\t<div style=' solid #000; background:linear-gradient(to right, #b3d9ff, #3399ff); width:90.0px; margin: 4px;  float:left; '>&nbsp;100%</div> \r\n",
      "</div> \r\n",
      " \t\t<div style=' solid #000; width:200px; margin: 0px;  '>\r\n",
      "\t\t\t\t<div style=' solid #000; width:90px;  margin: 4px;  overflow: hidden; align=right; float:left; '>\r\n",
      "a2</div> \r\n",
      "\t\t<div style=' solid #000; background:linear-gradient(to right, #b3d9ff, #3399ff); width:0px; margin: 4px;  float:left; '>&nbsp;0%</div> \r\n",
      "</div> \r\n",
      "\" style=\"fill: #cce6ff; font-weight: bold\"];\r\n",
      "B_1\r\n",
      "[labelType=\"html\"\r\n",
      "\t\tlabel=\"\r\n",
      "\t\t<div style='width:200px;height:20px; solid #000; border-bottom: 1px solid gray; text-align:center; overflow: hidden; font-weight: bold;'>\r\n",
      "<font color = 'black'>B_1</div>\r\n",
      " \t\t<div style=' solid #000; width:200px; margin: 0px;  '>\r\n",
      "\t\t\t\t<div style=' solid #000; width:90px; margin: 4px;  overflow: hidden; align=right; float:left; '>\r\n",
      "b1</div> \r\n",
      "\t\t<div style=' solid #000; background:linear-gradient(to right, #f0ad4e , #f0ad4e); width:53.999991px; margin: 4px;  float:left; '>&nbsp;60.00%</div> \r\n",
      "</div> \r\n",
      " \t\t<div style=' solid #000; width:200px; margin: 0px;  '>\r\n",
      "\t\t\t\t<div style=' solid #000; width:90px; margin: 4px;  overflow: hidden; align=right; float:left; '>\r\n",
      "b2</div> \r\n",
      "\t\t<div style=' solid #000; background:linear-gradient(to right, #5cb85c , #5cb85c); width:36.0px; margin: 4px;  float:left; '>&nbsp;40.00%</div> \r\n",
      "</div> \r\n",
      "\" style=\"fill: #ffffff; font-weight: bold\"];\r\n",
      "X_1\r\n",
      "[labelType=\"html\"\r\n",
      "\t\tlabel=\"\r\n",
      "\t\t<div style='width:200px;height:20px; solid #000; border-bottom: 1px solid gray; text-align:center; overflow: hidden; font-weight: bold;'>\r\n",
      "<font color = 'black'>X_1</div>\r\n",
      " \t\t<div style=' solid #000; width:200px; margin: 0px;  '>\r\n",
      "\t\t\t\t<div style=' solid #000; width:90px; margin: 4px;  overflow: hidden; align=right; float:left; '>\r\n",
      "x1</div> \r\n",
      "\t\t<div style=' solid #000; background:linear-gradient(to right, #5cb85c , #5cb85c); width:19.7999946px; margin: 4px;  float:left; '>&nbsp;22.00%</div> \r\n",
      "</div> \r\n",
      " \t\t<div style=' solid #000; width:200px; margin: 0px;  '>\r\n",
      "\t\t\t\t<div style=' solid #000; width:90px; margin: 4px;  overflow: hidden; align=right; float:left; '>\r\n",
      "x2</div> \r\n",
      "\t\t<div style=' solid #000; background:linear-gradient(to right, #f0ad4e , #f0ad4e); width:70.2px; margin: 4px;  float:left; '>&nbsp;78.00%</div> \r\n",
      "</div> \r\n",
      "\" style=\"fill: #ffffff; font-weight: bold\"];\r\n",
      "Y_1\r\n",
      "[labelType=\"html\"\r\n",
      "\t\tlabel=\"\r\n",
      "\t\t<div style='width:200px;height:20px; solid #000; border-bottom: 1px solid gray; text-align:center; overflow: hidden; font-weight: bold;'>\r\n",
      "<font color = 'black'>Y_1</div>\r\n",
      " \t\t<div style=' solid #000; width:200px; margin: 0px;  '>\r\n",
      "\t\t\t\t<div style=' solid #000; width:90px; margin: 4px;  overflow: hidden; align=right; float:left; '>\r\n",
      "y1</div> \r\n",
      "\t\t<div style=' solid #000; background:linear-gradient(to right, #5cb85c , #5cb85c); width:22.4279991px; margin: 4px;  float:left; '>&nbsp;24.92%</div> \r\n",
      "</div> \r\n",
      " \t\t<div style=' solid #000; width:200px; margin: 0px;  '>\r\n",
      "\t\t\t\t<div style=' solid #000; width:90px; margin: 4px;  overflow: hidden; align=right; float:left; '>\r\n",
      "y2</div> \r\n",
      "\t\t<div style=' solid #000; background:linear-gradient(to right, #f0ad4e , #f0ad4e); width:67.5719955px; margin: 4px;  float:left; '>&nbsp;75.08%</div> \r\n",
      "</div> \r\n",
      "\" style=\"fill: #ffffff; font-weight: bold\"];\r\n",
      "Z_1\r\n",
      "[labelType=\"html\"\r\n",
      "\t\tlabel=\"\r\n",
      "\t\t<div style='width:200px;height:20px; solid #000; border-bottom: 1px solid gray; text-align:center; overflow: hidden; font-weight: bold;'>\r\n",
      "<font color = 'black'>Z_1</div>\r\n",
      " \t\t<div style=' solid #000; width:200px; margin: 0px;  '>\r\n",
      "\t\t\t\t<div style=' solid #000; width:90px; margin: 4px;  overflow: hidden; align=right; float:left; '>\r\n",
      "z1</div> \r\n",
      "\t\t<div style=' solid #000; background:linear-gradient(to right, #f0ad4e , #f0ad4e); width:42.6959955px; margin: 4px;  float:left; '>&nbsp;47.44%</div> \r\n",
      "</div> \r\n",
      " \t\t<div style=' solid #000; width:200px; margin: 0px;  '>\r\n",
      "\t\t\t\t<div style=' solid #000; width:90px; margin: 4px;  overflow: hidden; align=right; float:left; '>\r\n",
      "z2</div> \r\n",
      "\t\t<div style=' solid #000; background:linear-gradient(to right, #5cb85c , #5cb85c); width:17.4239982px; margin: 4px;  float:left; '>&nbsp;19.36%</div> \r\n",
      "</div> \r\n",
      " \t\t<div style=' solid #000; width:200px; margin: 0px;  '>\r\n",
      "\t\t\t\t<div style=' solid #000; width:90px; margin: 4px;  overflow: hidden; align=right; float:left; '>\r\n",
      "z3</div> \r\n",
      "\t\t<div style=' solid #000; background:linear-gradient(to right, #5cb85c , #5cb85c); width:1.9799996400000002px; margin: 4px;  float:left; '>&nbsp;2.20%</div> \r\n",
      "</div> \r\n",
      " \t\t<div style=' solid #000; width:200px; margin: 0px;  '>\r\n",
      "\t\t\t\t<div style=' solid #000; width:90px; margin: 4px;  overflow: hidden; align=right; float:left; '>\r\n",
      "z4</div> \r\n",
      "\t\t<div style=' solid #000; background:linear-gradient(to right, #5cb85c , #5cb85c); width:1.9799996400000002px; margin: 4px;  float:left; '>&nbsp;2.20%</div> \r\n",
      "</div> \r\n",
      " \t\t<div style=' solid #000; width:200px; margin: 0px;  '>\r\n",
      "\t\t\t\t<div style=' solid #000; width:90px; margin: 4px;  overflow: hidden; align=right; float:left; '>\r\n",
      "z5</div> \r\n",
      "\t\t<div style=' solid #000; background:linear-gradient(to right, #5cb85c , #5cb85c); width:1.9799996400000002px; margin: 4px;  float:left; '>&nbsp;2.20%</div> \r\n",
      "</div> \r\n",
      " \t\t<div style=' solid #000; width:200px; margin: 0px;  '>\r\n",
      "\t\t\t\t<div style=' solid #000; width:90px; margin: 4px;  overflow: hidden; align=right; float:left; '>\r\n",
      "z6</div> \r\n",
      "\t\t<div style=' solid #000; background:linear-gradient(to right, #5cb85c , #5cb85c); width:1.9799996400000002px; margin: 4px;  float:left; '>&nbsp;2.20%</div> \r\n",
      "</div> \r\n",
      " \t\t<div style=' solid #000; width:200px; margin: 0px;  '>\r\n",
      "\t\t\t\t<div style=' solid #000; width:90px; margin: 4px;  overflow: hidden; align=right; float:left; '>\r\n",
      "z7</div> \r\n",
      "\t\t<div style=' solid #000; background:linear-gradient(to right, #5cb85c , #5cb85c); width:1.9799996400000002px; margin: 4px;  float:left; '>&nbsp;2.20%</div> \r\n",
      "</div> \r\n",
      " \t\t<div style=' solid #000; width:200px; margin: 0px;  '>\r\n",
      "\t\t\t\t<div style=' solid #000; width:90px; margin: 4px;  overflow: hidden; align=right; float:left; '>\r\n",
      "z8</div> \r\n",
      "\t\t<div style=' solid #000; background:linear-gradient(to right, #5cb85c , #5cb85c); width:1.9799996400000002px; margin: 4px;  float:left; '>&nbsp;2.20%</div> \r\n",
      "</div> \r\n",
      " \t\t<div style=' solid #000; width:200px; margin: 0px;  '>\r\n",
      "\t\t\t\t<div style=' solid #000; width:90px; margin: 4px;  overflow: hidden; align=right; float:left; '>\r\n",
      "z9</div> \r\n",
      "\t\t<div style=' solid #000; background:linear-gradient(to right, #5cb85c , #5cb85c); width:1.9799996400000002px; margin: 4px;  float:left; '>&nbsp;2.20%</div> \r\n",
      "</div> \r\n",
      " \t\t<div style=' solid #000; width:200px; margin: 0px;  '>\r\n",
      "\t\t\t\t<div style=' solid #000; width:90px; margin: 4px;  overflow: hidden; align=right; float:left; '>\r\n",
      "z10</div> \r\n",
      "\t\t<div style=' solid #000; background:linear-gradient(to right, #5cb85c , #5cb85c); width:16.0199991px; margin: 4px;  float:left; '>&nbsp;17.80%</div> \r\n",
      "</div> \r\n",
      "\" style=\"fill: #ffffff; font-weight: bold\"];\r\n",
      "A_1->X_1;\r\n",
      "B_1->X_1;\r\n",
      "X_1->Y_1;X_1->Z_1;\r\n",
      "\r\n",
      "} }\n"
     ]
    },
    {
     "ename": "JSONDecodeError",
     "evalue": "Expecting value: line 1 column 39 (char 38)",
     "output_type": "error",
     "traceback": [
      "\u001b[1;31m---------------------------------------------------------------------------\u001b[0m",
      "\u001b[1;31mJSONDecodeError\u001b[0m                           Traceback (most recent call last)",
      "\u001b[1;32m<ipython-input-24-c18d166d5e77>\u001b[0m in \u001b[0;36m<module>\u001b[1;34m()\u001b[0m\n\u001b[0;32m      8\u001b[0m \u001b[0mprint\u001b[0m\u001b[1;33m(\u001b[0m\u001b[0mr\u001b[0m\u001b[1;33m.\u001b[0m\u001b[0mtext\u001b[0m\u001b[1;33m)\u001b[0m\u001b[1;33m\u001b[0m\u001b[0m\n\u001b[0;32m      9\u001b[0m \u001b[1;33m\u001b[0m\u001b[0m\n\u001b[1;32m---> 10\u001b[1;33m \u001b[0mjdata\u001b[0m \u001b[1;33m=\u001b[0m \u001b[0mjson\u001b[0m\u001b[1;33m.\u001b[0m\u001b[0mloads\u001b[0m\u001b[1;33m(\u001b[0m\u001b[0mr\u001b[0m\u001b[1;33m.\u001b[0m\u001b[0mtext\u001b[0m\u001b[1;33m)\u001b[0m\u001b[1;33m\u001b[0m\u001b[0m\n\u001b[0m\u001b[0;32m     11\u001b[0m \u001b[1;33m\u001b[0m\u001b[0m\n\u001b[0;32m     12\u001b[0m \u001b[0mprint\u001b[0m\u001b[1;33m(\u001b[0m\u001b[0mjdata\u001b[0m\u001b[1;33m[\u001b[0m\u001b[0mdata\u001b[0m\u001b[1;33m]\u001b[0m\u001b[1;33m)\u001b[0m\u001b[1;33m\u001b[0m\u001b[0m\n",
      "\u001b[1;32m~\\AppData\\Local\\Continuum\\anaconda3\\lib\\json\\__init__.py\u001b[0m in \u001b[0;36mloads\u001b[1;34m(s, encoding, cls, object_hook, parse_float, parse_int, parse_constant, object_pairs_hook, **kw)\u001b[0m\n\u001b[0;32m    352\u001b[0m             \u001b[0mparse_int\u001b[0m \u001b[1;32mis\u001b[0m \u001b[1;32mNone\u001b[0m \u001b[1;32mand\u001b[0m \u001b[0mparse_float\u001b[0m \u001b[1;32mis\u001b[0m \u001b[1;32mNone\u001b[0m \u001b[1;32mand\u001b[0m\u001b[1;33m\u001b[0m\u001b[0m\n\u001b[0;32m    353\u001b[0m             parse_constant is None and object_pairs_hook is None and not kw):\n\u001b[1;32m--> 354\u001b[1;33m         \u001b[1;32mreturn\u001b[0m \u001b[0m_default_decoder\u001b[0m\u001b[1;33m.\u001b[0m\u001b[0mdecode\u001b[0m\u001b[1;33m(\u001b[0m\u001b[0ms\u001b[0m\u001b[1;33m)\u001b[0m\u001b[1;33m\u001b[0m\u001b[0m\n\u001b[0m\u001b[0;32m    355\u001b[0m     \u001b[1;32mif\u001b[0m \u001b[0mcls\u001b[0m \u001b[1;32mis\u001b[0m \u001b[1;32mNone\u001b[0m\u001b[1;33m:\u001b[0m\u001b[1;33m\u001b[0m\u001b[0m\n\u001b[0;32m    356\u001b[0m         \u001b[0mcls\u001b[0m \u001b[1;33m=\u001b[0m \u001b[0mJSONDecoder\u001b[0m\u001b[1;33m\u001b[0m\u001b[0m\n",
      "\u001b[1;32m~\\AppData\\Local\\Continuum\\anaconda3\\lib\\json\\decoder.py\u001b[0m in \u001b[0;36mdecode\u001b[1;34m(self, s, _w)\u001b[0m\n\u001b[0;32m    337\u001b[0m \u001b[1;33m\u001b[0m\u001b[0m\n\u001b[0;32m    338\u001b[0m         \"\"\"\n\u001b[1;32m--> 339\u001b[1;33m         \u001b[0mobj\u001b[0m\u001b[1;33m,\u001b[0m \u001b[0mend\u001b[0m \u001b[1;33m=\u001b[0m \u001b[0mself\u001b[0m\u001b[1;33m.\u001b[0m\u001b[0mraw_decode\u001b[0m\u001b[1;33m(\u001b[0m\u001b[0ms\u001b[0m\u001b[1;33m,\u001b[0m \u001b[0midx\u001b[0m\u001b[1;33m=\u001b[0m\u001b[0m_w\u001b[0m\u001b[1;33m(\u001b[0m\u001b[0ms\u001b[0m\u001b[1;33m,\u001b[0m \u001b[1;36m0\u001b[0m\u001b[1;33m)\u001b[0m\u001b[1;33m.\u001b[0m\u001b[0mend\u001b[0m\u001b[1;33m(\u001b[0m\u001b[1;33m)\u001b[0m\u001b[1;33m)\u001b[0m\u001b[1;33m\u001b[0m\u001b[0m\n\u001b[0m\u001b[0;32m    340\u001b[0m         \u001b[0mend\u001b[0m \u001b[1;33m=\u001b[0m \u001b[0m_w\u001b[0m\u001b[1;33m(\u001b[0m\u001b[0ms\u001b[0m\u001b[1;33m,\u001b[0m \u001b[0mend\u001b[0m\u001b[1;33m)\u001b[0m\u001b[1;33m.\u001b[0m\u001b[0mend\u001b[0m\u001b[1;33m(\u001b[0m\u001b[1;33m)\u001b[0m\u001b[1;33m\u001b[0m\u001b[0m\n\u001b[0;32m    341\u001b[0m         \u001b[1;32mif\u001b[0m \u001b[0mend\u001b[0m \u001b[1;33m!=\u001b[0m \u001b[0mlen\u001b[0m\u001b[1;33m(\u001b[0m\u001b[0ms\u001b[0m\u001b[1;33m)\u001b[0m\u001b[1;33m:\u001b[0m\u001b[1;33m\u001b[0m\u001b[0m\n",
      "\u001b[1;32m~\\AppData\\Local\\Continuum\\anaconda3\\lib\\json\\decoder.py\u001b[0m in \u001b[0;36mraw_decode\u001b[1;34m(self, s, idx)\u001b[0m\n\u001b[0;32m    355\u001b[0m             \u001b[0mobj\u001b[0m\u001b[1;33m,\u001b[0m \u001b[0mend\u001b[0m \u001b[1;33m=\u001b[0m \u001b[0mself\u001b[0m\u001b[1;33m.\u001b[0m\u001b[0mscan_once\u001b[0m\u001b[1;33m(\u001b[0m\u001b[0ms\u001b[0m\u001b[1;33m,\u001b[0m \u001b[0midx\u001b[0m\u001b[1;33m)\u001b[0m\u001b[1;33m\u001b[0m\u001b[0m\n\u001b[0;32m    356\u001b[0m         \u001b[1;32mexcept\u001b[0m \u001b[0mStopIteration\u001b[0m \u001b[1;32mas\u001b[0m \u001b[0merr\u001b[0m\u001b[1;33m:\u001b[0m\u001b[1;33m\u001b[0m\u001b[0m\n\u001b[1;32m--> 357\u001b[1;33m             \u001b[1;32mraise\u001b[0m \u001b[0mJSONDecodeError\u001b[0m\u001b[1;33m(\u001b[0m\u001b[1;34m\"Expecting value\"\u001b[0m\u001b[1;33m,\u001b[0m \u001b[0ms\u001b[0m\u001b[1;33m,\u001b[0m \u001b[0merr\u001b[0m\u001b[1;33m.\u001b[0m\u001b[0mvalue\u001b[0m\u001b[1;33m)\u001b[0m \u001b[1;32mfrom\u001b[0m \u001b[1;32mNone\u001b[0m\u001b[1;33m\u001b[0m\u001b[0m\n\u001b[0m\u001b[0;32m    358\u001b[0m         \u001b[1;32mreturn\u001b[0m \u001b[0mobj\u001b[0m\u001b[1;33m,\u001b[0m \u001b[0mend\u001b[0m\u001b[1;33m\u001b[0m\u001b[0m\n",
      "\u001b[1;31mJSONDecodeError\u001b[0m: Expecting value: line 1 column 39 (char 38)"
     ]
    }
   ],
   "source": [
    "import requests \n",
    "import json\n",
    "\n",
    "body = createJsonRequest(\"update\", \"html\", \"{\\\"name\\\":\\\"Simple X Model\\\", \\\"EV\\\":\\\"A_1 =a1\\\"}\")\n",
    "\n",
    "r = requests.post('http://169.60.94.50:8080/BC/webapi/RequestBN/run', data = body)\n",
    "\n",
    "print(r.text)\n",
    "\n",
    "jdata = json.loads(r.text)\n",
    "\n",
    "print(jdata[data])"
   ]
  },
  {
   "cell_type": "markdown",
   "metadata": {},
   "source": [
    "# Register BN "
   ]
  },
  {
   "cell_type": "code",
   "execution_count": 12,
   "metadata": {},
   "outputs": [],
   "source": [
    "from IPython.display import HTML\n",
    "import requests\n",
    "import urllib\n",
    "\n",
    "def create(bn):\n",
    "    view_html = \"http://169.60.94.50:8080/BC/viewer.jsp?myParam=\" + bn\n",
    "    parsed_html = urllib.parse.quote(view_html, safe=\"~@#$&()*!+=:;,.?/\\'\")\n",
    "    target = '<iframe src=\"' + parsed_html + '\" width=960 height=750> </iframe>'\n",
    "    display(HTML(target))\n",
    "         "
   ]
  },
  {
   "cell_type": "code",
   "execution_count": 13,
   "metadata": {},
   "outputs": [
    {
     "data": {
      "text/html": [
       "\n",
       "        <iframe\n",
       "            width=\"900\"\n",
       "            height=\"750\"\n",
       "            src=\"http://scitools.org.uk/cartopy/docs/latest/gallery/waves.html\"\n",
       "            frameborder=\"0\"\n",
       "            allowfullscreen\n",
       "        ></iframe>\n",
       "        "
      ],
      "text/plain": [
       "<IPython.lib.display.IFrame at 0x1a44548d6d8>"
      ]
     },
     "execution_count": 13,
     "metadata": {},
     "output_type": "execute_result"
    }
   ],
   "source": [
    "from IPython.display import IFrame\n",
    "\n",
    "url = 'http://scitools.org.uk/cartopy/docs/latest/gallery/waves.html'\n",
    "IFrame(url, width=900, height=750)"
   ]
  },
  {
   "cell_type": "code",
   "execution_count": 58,
   "metadata": {},
   "outputs": [],
   "source": [
    "from IPython.display import HTML\n",
    "import requests\n",
    "import urllib\n",
    "\n",
    "def create(bn):\n",
    "    view_html = \"http://169.60.94.50:8080/BC/viewer.jsp\" \n",
    "    parsed_html = urllib.parse.quote(view_html, safe=\"~@#$&()*!+=:;,.?/\\'\")\n",
    "    target = '<iframe src=\"' + parsed_html + '\" width=960 height=750> </iframe>'\n",
    "    display(HTML(target))"
   ]
  },
  {
   "cell_type": "code",
   "execution_count": 59,
   "metadata": {},
   "outputs": [
    {
     "data": {
      "text/html": [
       "<iframe src=\"http://localhost:8080/BC/viewer.jsp\" width=960 height=750> </iframe>"
      ],
      "text/plain": [
       "<IPython.core.display.HTML object>"
      ]
     },
     "metadata": {},
     "output_type": "display_data"
    }
   ],
   "source": [
    "\n",
    "\n",
    "create(\"a\")"
   ]
  },
  {
   "cell_type": "code",
   "execution_count": null,
   "metadata": {},
   "outputs": [],
   "source": []
  }
 ],
 "metadata": {
  "kernelspec": {
   "display_name": "Python 3",
   "language": "python",
   "name": "python3"
  },
  "language_info": {
   "codemirror_mode": {
    "name": "ipython",
    "version": 3
   },
   "file_extension": ".py",
   "mimetype": "text/x-python",
   "name": "python",
   "nbconvert_exporter": "python",
   "pygments_lexer": "ipython3",
   "version": "3.6.5"
  }
 },
 "nbformat": 4,
 "nbformat_minor": 2
}
