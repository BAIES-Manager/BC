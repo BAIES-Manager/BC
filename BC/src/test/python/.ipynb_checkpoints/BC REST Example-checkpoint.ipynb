{
 "cells": [
  {
   "cell_type": "markdown",
   "metadata": {},
   "source": [
    "# Search"
   ]
  },
  {
   "cell_type": "code",
   "execution_count": 41,
   "metadata": {},
   "outputs": [],
   "source": [
    "def createJsonRequest(mode, type, jsonData):\n",
    "    json = \"{\\\"mode\\\":\\\"\" +  mode + \"\\\", \\\"type\\\":\\\"\" + type + \"\\\",\\\"data\\\":\" + jsonData + \"}\"\n",
    "    return json\n"
   ]
  },
  {
   "cell_type": "code",
   "execution_count": 45,
   "metadata": {},
   "outputs": [
    {
     "name": "stdout",
     "output_type": "stream",
     "text": [
      "1: 09/09/2018 11:28:47.623  \r\n",
      "2: 09/09/2018 11:29:04.430  \r\n",
      "1: 09/15/2018 12:12:38.850  \r\n",
      "11: 09/15/2018 12:15:53.897  \r\n",
      "11: 09/15/2018 12:17:12.095  \r\n",
      "11: 09/15/2018 12:17:32.323  \r\n",
      "q: 09/15/2018 12:17:59.936  \r\n",
      "1: 09/15/2018 12:19:07.692  \r\n",
      ": 09/15/2018 12:22:37.493  \r\n",
      "11: 09/15/2018 12:23:56.148  \r\n",
      ": 09/15/2018 12:24:44.826  \r\n",
      ": 09/15/2018 12:28:12.554  \r\n",
      ": 09/15/2018 12:28:34.002  \r\n",
      ": 09/15/2018 13:11:25.635  \r\n",
      ": 09/15/2018 13:12:19.322  \r\n",
      "\n"
     ]
    }
   ],
   "source": [
    "import requests\n",
    "# {\"mode\":\"search\",\"type\":\"html\",\"data\":{\"srch-term\":\"\"}}\n",
    "body = createJsonRequest(\"search\", \"text\", \"{\\\"srch-term\\\":\\\"\\\"}\")\n",
    "\n",
    "r = requests.post('http://localhost:8080/BC/webapi/RequestBN/run', data = body)\n",
    "\n",
    "print(r.text)\n"
   ]
  },
  {
   "cell_type": "markdown",
   "metadata": {},
   "source": [
    "# Get BN"
   ]
  },
  {
   "cell_type": "code",
   "execution_count": 46,
   "metadata": {},
   "outputs": [
    {
     "name": "stdout",
     "output_type": "stream",
     "text": [
      " \n",
      "defineNode(A, Description); \n",
      "{\n",
      "\tdefineState(Discrete, a1, a2); \n",
      "\tp( A ) = { a1: 0.2; a2: 0.8;  } \n",
      "} \n"
     ]
    }
   ],
   "source": [
    "import requests \n",
    "body = createJsonRequest(\"get\", \"text\", \"{\\\"name\\\":\\\"1\\\"}\")\n",
    "\n",
    "r = requests.post('http://localhost:8080/BC/webapi/RequestBN/run', data = body)\n",
    "\n",
    "print(r.text)"
   ]
  },
  {
   "cell_type": "markdown",
   "metadata": {},
   "source": [
    "# Update BN with Evidence returinng Text"
   ]
  },
  {
   "cell_type": "code",
   "execution_count": 51,
   "metadata": {},
   "outputs": [
    {
     "name": "stdout",
     "output_type": "stream",
     "text": [
      "A:\r\n",
      "         EVIDENCE.[ a1 ]\n",
      "\r\n",
      "\n"
     ]
    }
   ],
   "source": [
    "import requests \n",
    "body = createJsonRequest(\"update\", \"text\", \"{\\\"name\\\":\\\"1\\\", \\\"EV\\\":\\\"A=a1\\\"}\")\n",
    "\n",
    "r = requests.post('http://localhost:8080/BC/webapi/RequestBN/run', data = body)\n",
    "\n",
    "print(r.text)"
   ]
  },
  {
   "cell_type": "markdown",
   "metadata": {},
   "source": [
    "# Update BN with Evidence returinng Json"
   ]
  },
  {
   "cell_type": "code",
   "execution_count": 72,
   "metadata": {},
   "outputs": [
    {
     "name": "stdout",
     "output_type": "stream",
     "text": [
      "{'Name': 'A', 'type': 'ev_dis', 'Param': {'a1': '1.0', 'a2': '0.0'}}\n"
     ]
    }
   ],
   "source": [
    "import requests \n",
    "import json\n",
    "\n",
    "body = createJsonRequest(\"update\", \"json\", \"{\\\"name\\\":\\\"1\\\", \\\"EV\\\":\\\"A=a1\\\"}\")\n",
    "\n",
    "r = requests.post('http://localhost:8080/BC/webapi/RequestBN/run', data = body)\n",
    "\n",
    "d = json.loads(r.text)\n",
    "print(d[0])"
   ]
  },
  {
   "cell_type": "markdown",
   "metadata": {},
   "source": [
    "# Update BN returinng Json"
   ]
  },
  {
   "cell_type": "code",
   "execution_count": 75,
   "metadata": {},
   "outputs": [
    {
     "name": "stdout",
     "output_type": "stream",
     "text": [
      "Name A\n",
      "type bel_dis\n",
      "Param {'a1': '0.2', 'a2': '0.8'}\n"
     ]
    }
   ],
   "source": [
    "import requests \n",
    "import json\n",
    "\n",
    "body = createJsonRequest(\"update\", \"json\", \"{\\\"name\\\":\\\"1\\\", \\\"EV\\\":\\\"\\\"}\")\n",
    "\n",
    "r = requests.post('http://localhost:8080/BC/webapi/RequestBN/run', data = body)\n",
    "\n",
    "jdata = json.loads(r.text)\n",
    "\n",
    "for d in jdata:\n",
    "    for key, value in d.items():\n",
    "        print (key, value)\n",
    "         "
   ]
  },
  {
   "cell_type": "code",
   "execution_count": null,
   "metadata": {},
   "outputs": [],
   "source": []
  },
  {
   "cell_type": "markdown",
   "metadata": {},
   "source": [
    "# Register BN "
   ]
  },
  {
   "cell_type": "code",
   "execution_count": null,
   "metadata": {},
   "outputs": [],
   "source": [
    "from IPython.display import HTML\n",
    "import requests\n",
    "import urllib\n",
    "\n",
    "def create(bn):\n",
    "    view_html = \"http://localhost:8080/BayesCloud/viewer.jsp?myParam=\" + bn\n",
    "    parsed_html = urllib.parse.quote(view_html, safe=\"~@#$&()*!+=:;,.?/\\'\")\n",
    "    target = '<iframe src=\"' + parsed_html + '\" width=960 height=750> </iframe>'\n",
    "    display(HTML(target))\n",
    "         "
   ]
  },
  {
   "cell_type": "code",
   "execution_count": null,
   "metadata": {},
   "outputs": [],
   "source": [
    "from IPython.display import IFrame\n",
    "\n",
    "url = 'http://scitools.org.uk/cartopy/docs/latest/gallery/waves.html'\n",
    "IFrame(url, width=900, height=750)"
   ]
  },
  {
   "cell_type": "code",
   "execution_count": 58,
   "metadata": {},
   "outputs": [],
   "source": [
    "from IPython.display import HTML\n",
    "import requests\n",
    "import urllib\n",
    "\n",
    "def create(bn):\n",
    "    view_html = \"http://localhost:8080/BC/viewer.jsp\" \n",
    "    parsed_html = urllib.parse.quote(view_html, safe=\"~@#$&()*!+=:;,.?/\\'\")\n",
    "    target = '<iframe src=\"' + parsed_html + '\" width=960 height=750> </iframe>'\n",
    "    display(HTML(target))"
   ]
  },
  {
   "cell_type": "code",
   "execution_count": 59,
   "metadata": {},
   "outputs": [
    {
     "data": {
      "text/html": [
       "<iframe src=\"http://localhost:8080/BC/viewer.jsp\" width=960 height=750> </iframe>"
      ],
      "text/plain": [
       "<IPython.core.display.HTML object>"
      ]
     },
     "metadata": {},
     "output_type": "display_data"
    }
   ],
   "source": [
    "\n",
    "\n",
    "create(\"a\")"
   ]
  },
  {
   "cell_type": "code",
   "execution_count": null,
   "metadata": {},
   "outputs": [],
   "source": []
  }
 ],
 "metadata": {
  "kernelspec": {
   "display_name": "Python 3",
   "language": "python",
   "name": "python3"
  },
  "language_info": {
   "codemirror_mode": {
    "name": "ipython",
    "version": 3
   },
   "file_extension": ".py",
   "mimetype": "text/x-python",
   "name": "python",
   "nbconvert_exporter": "python",
   "pygments_lexer": "ipython3",
   "version": "3.6.5"
  }
 },
 "nbformat": 4,
 "nbformat_minor": 2
}
